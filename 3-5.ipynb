{
 "cells": [
  {
   "cell_type": "code",
   "execution_count": 1,
   "id": "e3bbe952-730a-4c94-b993-e6b370b03112",
   "metadata": {},
   "outputs": [],
   "source": [
    "%run \"header.ipynb\""
   ]
  },
  {
   "cell_type": "code",
   "execution_count": 2,
   "id": "5d2b19da-8801-40ac-87d9-bfa6a0be96ab",
   "metadata": {},
   "outputs": [
    {
     "data": {
      "text/html": [
       "<div>\n",
       "<style scoped>\n",
       "    .dataframe tbody tr th:only-of-type {\n",
       "        vertical-align: middle;\n",
       "    }\n",
       "\n",
       "    .dataframe tbody tr th {\n",
       "        vertical-align: top;\n",
       "    }\n",
       "\n",
       "    .dataframe thead th {\n",
       "        text-align: right;\n",
       "    }\n",
       "</style>\n",
       "<table border=\"1\" class=\"dataframe\">\n",
       "  <thead>\n",
       "    <tr style=\"text-align: right;\">\n",
       "      <th></th>\n",
       "      <th>TS1</th>\n",
       "      <th>TS2</th>\n",
       "      <th>TS3</th>\n",
       "      <th>TS4</th>\n",
       "      <th>TS5</th>\n",
       "    </tr>\n",
       "  </thead>\n",
       "  <tbody>\n",
       "    <tr>\n",
       "      <th>0</th>\n",
       "      <td>0.000000</td>\n",
       "      <td>-0.030316</td>\n",
       "      <td>0.012626</td>\n",
       "      <td>0.016297</td>\n",
       "      <td>0.029420</td>\n",
       "    </tr>\n",
       "    <tr>\n",
       "      <th>1</th>\n",
       "      <td>-0.003916</td>\n",
       "      <td>-0.014709</td>\n",
       "      <td>-0.000924</td>\n",
       "      <td>0.003666</td>\n",
       "      <td>0.003383</td>\n",
       "    </tr>\n",
       "    <tr>\n",
       "      <th>2</th>\n",
       "      <td>0.006498</td>\n",
       "      <td>-0.018959</td>\n",
       "      <td>-0.003216</td>\n",
       "      <td>0.000016</td>\n",
       "      <td>-0.018175</td>\n",
       "    </tr>\n",
       "    <tr>\n",
       "      <th>3</th>\n",
       "      <td>0.005364</td>\n",
       "      <td>0.015515</td>\n",
       "      <td>-0.010126</td>\n",
       "      <td>0.009355</td>\n",
       "      <td>0.026024</td>\n",
       "    </tr>\n",
       "    <tr>\n",
       "      <th>4</th>\n",
       "      <td>-0.017799</td>\n",
       "      <td>0.028497</td>\n",
       "      <td>-0.005138</td>\n",
       "      <td>0.003650</td>\n",
       "      <td>0.016248</td>\n",
       "    </tr>\n",
       "    <tr>\n",
       "      <th>...</th>\n",
       "      <td>...</td>\n",
       "      <td>...</td>\n",
       "      <td>...</td>\n",
       "      <td>...</td>\n",
       "      <td>...</td>\n",
       "    </tr>\n",
       "    <tr>\n",
       "      <th>247</th>\n",
       "      <td>0.004238</td>\n",
       "      <td>-0.009577</td>\n",
       "      <td>0.006318</td>\n",
       "      <td>0.004343</td>\n",
       "      <td>0.005339</td>\n",
       "    </tr>\n",
       "    <tr>\n",
       "      <th>248</th>\n",
       "      <td>-0.005212</td>\n",
       "      <td>0.017364</td>\n",
       "      <td>-0.002193</td>\n",
       "      <td>0.006991</td>\n",
       "      <td>0.003865</td>\n",
       "    </tr>\n",
       "    <tr>\n",
       "      <th>249</th>\n",
       "      <td>-0.012368</td>\n",
       "      <td>-0.018243</td>\n",
       "      <td>0.007445</td>\n",
       "      <td>-0.001480</td>\n",
       "      <td>0.010870</td>\n",
       "    </tr>\n",
       "    <tr>\n",
       "      <th>250</th>\n",
       "      <td>0.005042</td>\n",
       "      <td>0.002994</td>\n",
       "      <td>-0.001914</td>\n",
       "      <td>-0.004523</td>\n",
       "      <td>0.004916</td>\n",
       "    </tr>\n",
       "    <tr>\n",
       "      <th>251</th>\n",
       "      <td>-0.009614</td>\n",
       "      <td>-0.006364</td>\n",
       "      <td>0.000475</td>\n",
       "      <td>-0.001199</td>\n",
       "      <td>-0.014822</td>\n",
       "    </tr>\n",
       "  </tbody>\n",
       "</table>\n",
       "<p>252 rows × 5 columns</p>\n",
       "</div>"
      ],
      "text/plain": [
       "          TS1       TS2       TS3       TS4       TS5\n",
       "0    0.000000 -0.030316  0.012626  0.016297  0.029420\n",
       "1   -0.003916 -0.014709 -0.000924  0.003666  0.003383\n",
       "2    0.006498 -0.018959 -0.003216  0.000016 -0.018175\n",
       "3    0.005364  0.015515 -0.010126  0.009355  0.026024\n",
       "4   -0.017799  0.028497 -0.005138  0.003650  0.016248\n",
       "..        ...       ...       ...       ...       ...\n",
       "247  0.004238 -0.009577  0.006318  0.004343  0.005339\n",
       "248 -0.005212  0.017364 -0.002193  0.006991  0.003865\n",
       "249 -0.012368 -0.018243  0.007445 -0.001480  0.010870\n",
       "250  0.005042  0.002994 -0.001914 -0.004523  0.004916\n",
       "251 -0.009614 -0.006364  0.000475 -0.001199 -0.014822\n",
       "\n",
       "[252 rows x 5 columns]"
      ]
     },
     "execution_count": 2,
     "metadata": {},
     "output_type": "execute_result"
    }
   ],
   "source": [
    "prices = pd.read_csv('prices.csv')\n",
    "prices"
   ]
  },
  {
   "cell_type": "code",
   "execution_count": 3,
   "id": "dcd92bdb-bf4f-432c-a624-7e616bb53f76",
   "metadata": {},
   "outputs": [
    {
     "name": "stdout",
     "output_type": "stream",
     "text": [
      "aaa\n",
      "(252, 2)\n"
     ]
    },
    {
     "ename": "ValueError",
     "evalue": "all the input arrays must have same number of dimensions, but the array at index 0 has 1 dimension(s) and the array at index 1 has 0 dimension(s)",
     "output_type": "error",
     "traceback": [
      "\u001b[0;31m---------------------------------------------------------------------------\u001b[0m",
      "\u001b[0;31mValueError\u001b[0m                                Traceback (most recent call last)",
      "\u001b[0;32m/tmp/ipykernel_11359/2735265778.py\u001b[0m in \u001b[0;36m<module>\u001b[0;34m\u001b[0m\n\u001b[1;32m      6\u001b[0m \u001b[0msigma\u001b[0m \u001b[0;34m=\u001b[0m \u001b[0;36m0.4\u001b[0m\u001b[0;34m\u001b[0m\u001b[0;34m\u001b[0m\u001b[0m\n\u001b[1;32m      7\u001b[0m \u001b[0;34m\u001b[0m\u001b[0m\n\u001b[0;32m----> 8\u001b[0;31m \u001b[0mdf\u001b[0m \u001b[0;34m=\u001b[0m \u001b[0mMC\u001b[0m\u001b[0;34m(\u001b[0m\u001b[0mprocess_type\u001b[0m\u001b[0;34m,\u001b[0m \u001b[0mNs\u001b[0m\u001b[0;34m,\u001b[0m \u001b[0mNr\u001b[0m\u001b[0;34m,\u001b[0m \u001b[0mS0\u001b[0m \u001b[0;34m=\u001b[0m \u001b[0mS0\u001b[0m\u001b[0;34m,\u001b[0m \u001b[0mmu\u001b[0m \u001b[0;34m=\u001b[0m \u001b[0mmu\u001b[0m\u001b[0;34m,\u001b[0m \u001b[0msigma\u001b[0m \u001b[0;34m=\u001b[0m \u001b[0msigma\u001b[0m\u001b[0;34m,\u001b[0m \u001b[0mdraw\u001b[0m \u001b[0;34m=\u001b[0m \u001b[0;36m5\u001b[0m\u001b[0;34m,\u001b[0m \u001b[0mlam\u001b[0m \u001b[0;34m=\u001b[0m \u001b[0;34m[\u001b[0m\u001b[0;36m0.5\u001b[0m\u001b[0;34m,\u001b[0m \u001b[0;36m0.5\u001b[0m\u001b[0;34m]\u001b[0m\u001b[0;34m,\u001b[0m \u001b[0mreturned\u001b[0m \u001b[0;34m=\u001b[0m \u001b[0;34m'psz'\u001b[0m\u001b[0;34m)\u001b[0m\u001b[0;34m\u001b[0m\u001b[0;34m\u001b[0m\u001b[0m\n\u001b[0m",
      "\u001b[0;32m/tmp/ipykernel_11359/2216931413.py\u001b[0m in \u001b[0;36mMC\u001b[0;34m(process_type, Ns, Nr, S0, mu, dt, sigma, draw, p, lam, phi, returned)\u001b[0m\n\u001b[1;32m      3\u001b[0m \u001b[0;34m\u001b[0m\u001b[0m\n\u001b[1;32m      4\u001b[0m     \u001b[0mzs\u001b[0m \u001b[0;34m=\u001b[0m \u001b[0mget_zs\u001b[0m\u001b[0;34m(\u001b[0m\u001b[0mz_type\u001b[0m\u001b[0;34m,\u001b[0m \u001b[0mNs\u001b[0m\u001b[0;34m,\u001b[0m \u001b[0mNr\u001b[0m\u001b[0;34m)\u001b[0m\u001b[0;34m\u001b[0m\u001b[0;34m\u001b[0m\u001b[0m\n\u001b[0;32m----> 5\u001b[0;31m     \u001b[0msteps\u001b[0m \u001b[0;34m=\u001b[0m \u001b[0mget_steps\u001b[0m\u001b[0;34m(\u001b[0m\u001b[0mstep_type\u001b[0m\u001b[0;34m,\u001b[0m \u001b[0mzs\u001b[0m\u001b[0;34m,\u001b[0m \u001b[0mmu\u001b[0m \u001b[0;34m=\u001b[0m \u001b[0mmu\u001b[0m\u001b[0;34m,\u001b[0m \u001b[0mdt\u001b[0m \u001b[0;34m=\u001b[0m \u001b[0mdt\u001b[0m\u001b[0;34m,\u001b[0m \u001b[0msigma\u001b[0m \u001b[0;34m=\u001b[0m \u001b[0msigma\u001b[0m\u001b[0;34m,\u001b[0m \u001b[0mp\u001b[0m \u001b[0;34m=\u001b[0m \u001b[0mp\u001b[0m\u001b[0;34m,\u001b[0m \u001b[0mlam\u001b[0m \u001b[0;34m=\u001b[0m \u001b[0mlam\u001b[0m\u001b[0;34m,\u001b[0m \u001b[0mphi\u001b[0m \u001b[0;34m=\u001b[0m \u001b[0mphi\u001b[0m\u001b[0;34m)\u001b[0m\u001b[0;34m\u001b[0m\u001b[0;34m\u001b[0m\u001b[0m\n\u001b[0m\u001b[1;32m      6\u001b[0m     \u001b[0mprices\u001b[0m \u001b[0;34m=\u001b[0m \u001b[0mget_prices\u001b[0m\u001b[0;34m(\u001b[0m\u001b[0msteps\u001b[0m\u001b[0;34m,\u001b[0m \u001b[0mcummulation\u001b[0m\u001b[0;34m,\u001b[0m \u001b[0mS0\u001b[0m \u001b[0;34m=\u001b[0m \u001b[0mS0\u001b[0m\u001b[0;34m)\u001b[0m\u001b[0;34m\u001b[0m\u001b[0;34m\u001b[0m\u001b[0m\n\u001b[1;32m      7\u001b[0m \u001b[0;34m\u001b[0m\u001b[0m\n",
      "\u001b[0;32m/tmp/ipykernel_11359/3630345149.py\u001b[0m in \u001b[0;36mget_steps\u001b[0;34m(step_type, zs, mu, dt, sigma, p, lam, phi)\u001b[0m\n\u001b[1;32m     55\u001b[0m                 \u001b[0;32melse\u001b[0m\u001b[0;34m:\u001b[0m \u001b[0mretro\u001b[0m \u001b[0;34m=\u001b[0m \u001b[0mnp\u001b[0m\u001b[0;34m.\u001b[0m\u001b[0marray\u001b[0m\u001b[0;34m(\u001b[0m\u001b[0mret\u001b[0m\u001b[0;34m[\u001b[0m\u001b[0mt\u001b[0m\u001b[0;34m-\u001b[0m\u001b[0mn\u001b[0m\u001b[0;34m,\u001b[0m \u001b[0;34m:\u001b[0m\u001b[0;34m]\u001b[0m\u001b[0;34m)\u001b[0m\u001b[0;34m\u001b[0m\u001b[0;34m\u001b[0m\u001b[0m\n\u001b[1;32m     56\u001b[0m                 \u001b[0;32mfor\u001b[0m \u001b[0mn\u001b[0m \u001b[0;32min\u001b[0m \u001b[0mrange\u001b[0m\u001b[0;34m(\u001b[0m\u001b[0;36m1\u001b[0m\u001b[0;34m,\u001b[0m \u001b[0mlen\u001b[0m\u001b[0;34m(\u001b[0m\u001b[0mlam\u001b[0m\u001b[0;34m)\u001b[0m\u001b[0;34m)\u001b[0m\u001b[0;34m:\u001b[0m\u001b[0;34m\u001b[0m\u001b[0;34m\u001b[0m\u001b[0m\n\u001b[0;32m---> 57\u001b[0;31m                     \u001b[0;32mif\u001b[0m \u001b[0mt\u001b[0m \u001b[0;34m-\u001b[0m \u001b[0mn\u001b[0m \u001b[0;34m<\u001b[0m \u001b[0;36m0\u001b[0m\u001b[0;34m:\u001b[0m \u001b[0mnp\u001b[0m\u001b[0;34m.\u001b[0m\u001b[0mappend\u001b[0m\u001b[0;34m(\u001b[0m\u001b[0mretro\u001b[0m\u001b[0;34m,\u001b[0m \u001b[0;36m0\u001b[0m\u001b[0;34m,\u001b[0m \u001b[0maxis\u001b[0m \u001b[0;34m=\u001b[0m \u001b[0;36m0\u001b[0m\u001b[0;34m)\u001b[0m\u001b[0;34m\u001b[0m\u001b[0;34m\u001b[0m\u001b[0m\n\u001b[0m\u001b[1;32m     58\u001b[0m                     \u001b[0;32melse\u001b[0m\u001b[0;34m:\u001b[0m \u001b[0mnp\u001b[0m\u001b[0;34m.\u001b[0m\u001b[0mappend\u001b[0m\u001b[0;34m(\u001b[0m\u001b[0mretro\u001b[0m\u001b[0;34m,\u001b[0m \u001b[0mret\u001b[0m\u001b[0;34m[\u001b[0m\u001b[0mt\u001b[0m\u001b[0;34m-\u001b[0m\u001b[0mn\u001b[0m\u001b[0;34m,\u001b[0m \u001b[0;34m:\u001b[0m\u001b[0;34m]\u001b[0m\u001b[0;34m,\u001b[0m \u001b[0maxis\u001b[0m \u001b[0;34m=\u001b[0m \u001b[0;36m0\u001b[0m\u001b[0;34m)\u001b[0m\u001b[0;34m\u001b[0m\u001b[0;34m\u001b[0m\u001b[0m\n\u001b[1;32m     59\u001b[0m                 \u001b[0mprint\u001b[0m\u001b[0;34m(\u001b[0m\u001b[0mlam\u001b[0m\u001b[0;34m)\u001b[0m\u001b[0;34m\u001b[0m\u001b[0;34m\u001b[0m\u001b[0m\n",
      "\u001b[0;32m<__array_function__ internals>\u001b[0m in \u001b[0;36mappend\u001b[0;34m(*args, **kwargs)\u001b[0m\n",
      "\u001b[0;32m~/anaconda3/lib/python3.9/site-packages/numpy/lib/function_base.py\u001b[0m in \u001b[0;36mappend\u001b[0;34m(arr, values, axis)\u001b[0m\n\u001b[1;32m   4815\u001b[0m         \u001b[0mvalues\u001b[0m \u001b[0;34m=\u001b[0m \u001b[0mravel\u001b[0m\u001b[0;34m(\u001b[0m\u001b[0mvalues\u001b[0m\u001b[0;34m)\u001b[0m\u001b[0;34m\u001b[0m\u001b[0;34m\u001b[0m\u001b[0m\n\u001b[1;32m   4816\u001b[0m         \u001b[0maxis\u001b[0m \u001b[0;34m=\u001b[0m \u001b[0marr\u001b[0m\u001b[0;34m.\u001b[0m\u001b[0mndim\u001b[0m\u001b[0;34m-\u001b[0m\u001b[0;36m1\u001b[0m\u001b[0;34m\u001b[0m\u001b[0;34m\u001b[0m\u001b[0m\n\u001b[0;32m-> 4817\u001b[0;31m     \u001b[0;32mreturn\u001b[0m \u001b[0mconcatenate\u001b[0m\u001b[0;34m(\u001b[0m\u001b[0;34m(\u001b[0m\u001b[0marr\u001b[0m\u001b[0;34m,\u001b[0m \u001b[0mvalues\u001b[0m\u001b[0;34m)\u001b[0m\u001b[0;34m,\u001b[0m \u001b[0maxis\u001b[0m\u001b[0;34m=\u001b[0m\u001b[0maxis\u001b[0m\u001b[0;34m)\u001b[0m\u001b[0;34m\u001b[0m\u001b[0;34m\u001b[0m\u001b[0m\n\u001b[0m\u001b[1;32m   4818\u001b[0m \u001b[0;34m\u001b[0m\u001b[0m\n\u001b[1;32m   4819\u001b[0m \u001b[0;34m\u001b[0m\u001b[0m\n",
      "\u001b[0;32m<__array_function__ internals>\u001b[0m in \u001b[0;36mconcatenate\u001b[0;34m(*args, **kwargs)\u001b[0m\n",
      "\u001b[0;31mValueError\u001b[0m: all the input arrays must have same number of dimensions, but the array at index 0 has 1 dimension(s) and the array at index 1 has 0 dimension(s)"
     ]
    }
   ],
   "source": [
    "process_type = 'ncmAR2'\n",
    "Ns = 252\n",
    "Nr = 2\n",
    "S0 = 100\n",
    "mu = 0.06\n",
    "sigma = 0.4\n",
    "\n",
    "df = MC(process_type, Ns, Nr, S0 = S0, mu = mu, sigma = sigma, draw = 5, lam = [0.5, 0.5], returned = 'psz')"
   ]
  },
  {
   "cell_type": "code",
   "execution_count": null,
   "id": "b0801dd9-9536-4f60-8ede-34b4ebbb13db",
   "metadata": {},
   "outputs": [],
   "source": [
    "prices.sum()"
   ]
  },
  {
   "cell_type": "code",
   "execution_count": null,
   "id": "28665af8-72ff-44ef-ab15-929c081ab21f",
   "metadata": {},
   "outputs": [],
   "source": [
    "prices.std()*np.sqrt(252)"
   ]
  },
  {
   "cell_type": "code",
   "execution_count": null,
   "id": "42c53220-724f-4dee-82cf-830426230743",
   "metadata": {},
   "outputs": [],
   "source": [
    "def acf_single(data, order):\n",
    "    d1 = data[:-order][:] if (order > 0) else data\n",
    "    d2 = data[order:][:] if (order > 0) else data\n",
    "    print(order)\n",
    "    print(d1)\n",
    "    print(d2)\n",
    "    print(np.sqrt(np.sum((d1 - np.mean(d1, axis = 0)) * (d1 - np.mean(d1, axis = 0)))))\n",
    "    sig1 = np.sqrt(np.sum(np.square(d1 - np.mean(d1, axis = 0)), axis = 0))\n",
    "    sig2 = np.sqrt(np.sum(np.square(d2 - np.mean(d2, axis = 0)), axis = 0))\n",
    "    \n",
    "    return np.sum((d1 - np.mean(d1, axis = 0)) * (d1 - np.mean(d1, axis = 0)) / sig1 / sig2, axis = 0)\n",
    "\n",
    "def acf(data, max_order = 15):\n",
    "    if len(data.shape) > 1: runs = data.shape[1]\n",
    "    else: runs = 1\n",
    "    res = np.zeros([max_order, runs])\n",
    "    for i in range(max_order):\n",
    "        res[i, :] = acf_single(data, i)\n",
    "    return res\n",
    "\n",
    "def draw_acf(data, max_order = 15):\n",
    "    if len(data.shape) > 1: \n",
    "        runs = data.shape[1]\n",
    "    else:\n",
    "        runs = 1\n",
    "    f = acf(data, max_order)\n",
    "    for run in range(runs):\n",
    "        plt.figure()\n",
    "        plt.bar(range(max_order), f[:,run])"
   ]
  },
  {
   "cell_type": "code",
   "execution_count": null,
   "id": "afeb47cb-eb97-48b5-99e4-29d61b2be1b5",
   "metadata": {},
   "outputs": [],
   "source": [
    "acf(prices['TS1'])"
   ]
  },
  {
   "cell_type": "code",
   "execution_count": null,
   "id": "1f7730ba-5dde-4534-a5f6-d66a29f13592",
   "metadata": {},
   "outputs": [],
   "source": [
    "draw_acf(prices, max_order = 30)"
   ]
  },
  {
   "cell_type": "code",
   "execution_count": null,
   "id": "c472f749-1a84-4d7f-8c26-f1dce8a51757",
   "metadata": {},
   "outputs": [],
   "source": []
  }
 ],
 "metadata": {
  "kernelspec": {
   "display_name": "Python 3 (ipykernel)",
   "language": "python",
   "name": "python3"
  },
  "language_info": {
   "codemirror_mode": {
    "name": "ipython",
    "version": 3
   },
   "file_extension": ".py",
   "mimetype": "text/x-python",
   "name": "python",
   "nbconvert_exporter": "python",
   "pygments_lexer": "ipython3",
   "version": "3.9.13"
  }
 },
 "nbformat": 4,
 "nbformat_minor": 5
}
